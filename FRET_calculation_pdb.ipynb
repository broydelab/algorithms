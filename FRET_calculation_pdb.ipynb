{
  "cells": [
    {
      "cell_type": "code",
      "execution_count": null,
      "metadata": {
        "id": "puuym9pcZeCi"
      },
      "outputs": [],
      "source": [
        "import pytraj as pt\n",
        "import numpy as np"
      ]
    },
    {
      "cell_type": "code",
      "execution_count": null,
      "metadata": {
        "id": "bKHOdznWZeCn"
      },
      "outputs": [],
      "source": [
        "'''load the pdb file you will want to calculate for'''\n",
        "pdb = pt.load('./13mer.pdb')"
      ]
    },
    {
      "cell_type": "code",
      "execution_count": null,
      "metadata": {
        "id": "dTDNQkmZZeCp"
      },
      "outputs": [],
      "source": [
        "'''load standard tC0 used to mimic the DA pairs'''\n",
        "tc=pt.load('./tC0.pdb')"
      ]
    },
    {
      "cell_type": "code",
      "execution_count": null,
      "metadata": {
        "id": "phm3UKmmZeCq"
      },
      "outputs": [],
      "source": [
        "'''load the standard dC in case the residue at the postion for DA is not a dC'''\n",
        "dc=pt.load('./dC_bdna.pdb')"
      ]
    },
    {
      "cell_type": "code",
      "execution_count": null,
      "metadata": {
        "id": "C0btTTokZeCr",
        "outputId": "becbc19c-c051-4d01-c5fd-9d395cc265fd"
      },
      "outputs": [
        {
          "data": {
            "text/plain": [
              "array([34.47910629, 41.34136377, 44.77953178])"
            ]
          },
          "execution_count": 57,
          "metadata": {},
          "output_type": "execute_result"
        }
      ],
      "source": [
        "'''fist superpostion of the standard dC to the residue and then tC0 to the dC'''\n",
        "pt.rmsd(dc,mask=\"@P,OP*,C1',C2',C3',C4',C5',O3',O5'\",ref=pdb,ref_mask=\":4@P,OP*,C1',C2',C3',C4',C5',O3',O5'\",update_coordinate=True)\n",
        "pt.rmsd(tc,mask='@N1,C2,N3,C4,C5,C6',ref=dc,ref_mask='@N1,C2,N3,C4,C5,C6',update_coordinate=True)"
      ]
    },
    {
      "cell_type": "code",
      "execution_count": null,
      "metadata": {
        "id": "vbHK95N0ZeCs",
        "outputId": "4b81d0ce-a86a-4ddf-8b8d-441f0de01f9d"
      },
      "outputs": [
        {
          "data": {
            "text/plain": [
              "array([31.33391073, 39.48269154, 45.29973793])"
            ]
          },
          "execution_count": 58,
          "metadata": {},
          "output_type": "execute_result"
        }
      ],
      "source": [
        "'''calculate the center of geometry for the middle ring of tC0'''\n",
        "dcog = pt.center_of_geometry(tc,mask='@C4,C5,N7,C8,C13,O14')\n",
        "dcog[0]"
      ]
    },
    {
      "cell_type": "code",
      "execution_count": null,
      "metadata": {
        "id": "hR8Wu-iKZeCu",
        "outputId": "b6e74bd3-b431-4808-c033-4cc1b35cb802"
      },
      "outputs": [
        {
          "data": {
            "text/plain": [
              "array([[31.33391073, 39.48269154, 45.29973793],\n",
              "       [28.63156217, 38.98746655, 45.64356278]])"
            ]
          },
          "execution_count": 60,
          "metadata": {},
          "output_type": "execute_result"
        }
      ],
      "source": [
        "'''save the coords to output array'''\n",
        "output = np.vstack((dcog,tc['@C9'][0][0]))\n",
        "output"
      ]
    },
    {
      "cell_type": "code",
      "execution_count": null,
      "metadata": {
        "id": "NRerV6C9ZeCv",
        "outputId": "6f5c66c7-8510-4a37-95cf-520ac783d617"
      },
      "outputs": [
        {
          "data": {
            "text/plain": [
              "array([36.06682217, 38.16370878, 21.63025543])"
            ]
          },
          "execution_count": 61,
          "metadata": {},
          "output_type": "execute_result"
        }
      ],
      "source": [
        "'''superposition of tC0 mimic to the dC residue position'''\n",
        "rmsd = pt.rmsd(tc,mask='@N1,C2,N3,C4,C5,C6',ref=pdb,ref_mask=':18@N1,C2,N3,C4,C5,C6',update_coordinate=True)\n",
        "tc[0][0]"
      ]
    },
    {
      "cell_type": "code",
      "execution_count": null,
      "metadata": {
        "id": "Mm4nhBp8ZeCw",
        "outputId": "81f1873f-d63d-4ffa-ab16-22688c52cdaa"
      },
      "outputs": [
        {
          "data": {
            "text/plain": [
              "array([34.94789744, 34.65453066, 21.85654829])"
            ]
          },
          "execution_count": 62,
          "metadata": {},
          "output_type": "execute_result"
        }
      ],
      "source": [
        "'''calculate the center of geometry for the middle ring of the tC0 mimic'''\n",
        "pcog = pt.center_of_geometry(tc,mask='@C4,C5,N7,C8,C13,O14')\n",
        "pcog[0]"
      ]
    },
    {
      "cell_type": "code",
      "execution_count": null,
      "metadata": {
        "id": "7Yhq9Q4SZeCx"
      },
      "outputs": [],
      "source": [
        "'''save output array'''\n",
        "output = np.vstack((output,pcog[0],tc['@C12'][0][0],dcog[0],pcog[0]))"
      ]
    },
    {
      "cell_type": "code",
      "execution_count": null,
      "metadata": {
        "id": "jgJkug4eZeCy",
        "outputId": "149d5fd0-1c07-4160-ed88-58f75d5eee8b"
      },
      "outputs": [
        {
          "data": {
            "text/plain": [
              "array([[31.33391073, 39.48269154, 45.29973793],\n",
              "       [28.63156217, 38.98746655, 45.64356278],\n",
              "       [34.94789744, 34.65453066, 21.85654829],\n",
              "       [32.61704246, 33.17396727, 21.61940873],\n",
              "       [31.33391073, 39.48269154, 45.29973793],\n",
              "       [34.94789744, 34.65453066, 21.85654829]])"
            ]
          },
          "execution_count": 65,
          "metadata": {},
          "output_type": "execute_result"
        }
      ],
      "source": [
        "output"
      ]
    },
    {
      "cell_type": "code",
      "execution_count": null,
      "metadata": {
        "id": "E0iVuyNrZeCy"
      },
      "outputs": [],
      "source": [
        "'''write the output coord to local drive for record keeping'''\n",
        "np.savetxt(\"fret_13mer_coord.txt\",output,delimiter=\"\\t\")"
      ]
    },
    {
      "cell_type": "code",
      "execution_count": null,
      "metadata": {
        "id": "BVf1sxT-ZeCz",
        "outputId": "9f877cc0-e19e-49a0-9682-233cc7042e3b"
      },
      "outputs": [
        {
          "name": "stdout",
          "output_type": "stream",
          "text": [
            "e = 0.754919876901423 tDA = 1.1028605539435963\n"
          ]
        }
      ],
      "source": [
        "'''\n",
        "Calculation for the E value and tDA fluorescence lifetime value.\n",
        "tD should be set at the value of fluorescence lifetime in abscense of acceptor\n",
        "'''\n",
        "tD = 4.5\n",
        "p1 = output[1,:]-output[0,:]\n",
        "p2 = output[3,:]-output[2,:]\n",
        "p3 = output[5,:]-output[4,:]\n",
        "e1 = np.dot(p1,p2)/(np.linalg.norm(p1)*np.linalg.norm(p2))\n",
        "e2 = np.dot(p1,p3)/(np.linalg.norm(p1)*np.linalg.norm(p3))\n",
        "e3 = np.dot(p3,p2)/(np.linalg.norm(p3)*np.linalg.norm(p2))\n",
        "k = e1 - 3*e2*e3\n",
        "r0 = 0.211*np.power((k**2*0.23*1.3*10**14/1.4**4),(1/6))\n",
        "r = np.linalg.norm(pcog-dcog)\n",
        "e_val = r0**6/(r0**6+r**6)\n",
        "t_val =(1-e_val)*tD\n",
        "print('e = {} tDA = {}'.format(e_val,t_val))\n"
      ]
    },
    {
      "cell_type": "code",
      "execution_count": null,
      "metadata": {
        "id": "Ii-hcT51ZeC1"
      },
      "outputs": [],
      "source": [
        ""
      ]
    }
  ],
  "metadata": {
    "kernelspec": {
      "display_name": "Python 3.7.3 64-bit ('anaconda3': conda)",
      "language": "python",
      "name": "python37364bitanaconda3conda28cf849db06c4a0e8e6d1b2c0017d074"
    },
    "language_info": {
      "codemirror_mode": {
        "name": "ipython",
        "version": 3
      },
      "file_extension": ".py",
      "mimetype": "text/x-python",
      "name": "python",
      "nbconvert_exporter": "python",
      "pygments_lexer": "ipython3",
      "version": "3.7.3"
    },
    "colab": {
      "name": "FRET_calculation_pdb.ipynb",
      "provenance": []
    }
  },
  "nbformat": 4,
  "nbformat_minor": 0
}